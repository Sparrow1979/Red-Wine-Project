{
 "cells": [
  {
   "cell_type": "markdown",
   "id": "b7486a60-c7af-489b-9a1c-d5aff831f590",
   "metadata": {},
   "source": [
    "# Module 2: Data Analysis"
   ]
  },
  {
   "cell_type": "markdown",
   "id": "ba761e46-a398-42e5-a083-0ca125d0aedf",
   "metadata": {},
   "source": [
    "## Sprint 3: Statistical Modeling"
   ]
  },
  {
   "cell_type": "markdown",
   "id": "fc6515cd-4595-49df-a608-38b1a9adf060",
   "metadata": {},
   "source": [
    "## Part 5: Red Wine Quality"
   ]
  },
  {
   "cell_type": "markdown",
   "id": "65fbeb5b-942a-45f0-8fb9-68f45278c439",
   "metadata": {},
   "source": [
    "## About this Part\n\nCongrats!\nYou have reached the last Part of this Sprint.\nIn this Part, you will put what you learned during this and the previous Sprints into practice.\nAs the final assignment of this Sprint, you will analyse the Red Wine Quality dataset.\nYou will have to apply all that you have learned about Machine Learning to complete this task.\nOur expectation is that you'll use your own judgement how to perform the analysis and how to select the most important avenues of modeling, statistical testing, and exploration.\nYou'll have to iteratively try to find patterns in the data, raise hypotheses and use your data analysis skills to get answers.\n\nP.S. we don't expect this project to be perfect - you will continue to improve your skills and there will be many projects for you to apply your newly gained skills in the future.\nFor now just use what you have learned and try your best!\n\n## Objectives for this Part\n\n- Practice working with CSV files.\n- Practice performing EDA.\n- Practice applying statistical inference procedures.\n- Practice using linear machine learning models.\n- Practice visualizing data with Matplotlib & Seaborn.\n- Practice creating dashboards with Google Data Studio.\n- Practice reading data, performing queries and filtering data using SQL and Pandas.\n\n## Requirements\n\n- Download the data from [Red Wine Quality](https://www.kaggle.com/uciml/red-wine-quality-cortez-et-al-2009).\n- Load the data using Pandas.\n- Perform exploratory data analysis. This should include creating statistical summaries and charts, testing for anomalies, checking for correlations and other relations between variables, and other EDA elements.\n- Perform statistical inference. This should include defining the target population, forming multiple statistical hypotheses and constructing confidence intervals, setting the significance levels, conducting z or t-tests for these hypotheses.\n- Apply linear machine learning models to predict the quality column using the other 11 features. This should include the analysis of model selection using the statistical significance of each feature, R-squared, at least one popular information criteria, and other methods.\n- Apply linear machine learning models to predict the alcohol column using the other 11 features. This should include the analysis of model selection using the statistical significance of each feature, R-squared, at least one popular information criteria, and other methods.\n- Create a Google Data Studio dashboard with at least three different types of charts.\n- Provide clear explanations in your notebook. Your explanations should inform the reader what you are trying to achieve, what results did you get, and what these results mean.\n- Provide suggestions about how your analysis can be improved.\n\n## Evaluation Criteria\n\n- Adherence to the requirements. How well did you meet the requirements?\n- Depth of your analysis. Did you just skim the surface or did you explored the dataset in depth?\n- Visualization quality. Did you use charts effectively to visualize patterns in the data? Are your visualizations properly labeled? Did you use colors effectively? Did you adhere to the principle of proportional ink?\n- Code quality. Was your code well-structured? Did you use the appropriate levels of abstraction? Did you remove commented out and unused code? Did you adhere to the PEP8?\n- Code performance. Did you use the suitable algorithms and data structures to solve the problems?\n\n## Correction\n\nDuring your project correction, you should present it as if talking to a technical team lead and a senior co-worker working in your team.\nYou can assume that they will have strong data science and software engineering skills - they will understand technical jargon, they are expected to notice things that could have been done better, ask about the choices you've made (especially if you've made some questionable choices).\nIn addition, be careful not to spend your time explaining trivial concepts or code snippets that are simple - your best bet is to focus your presentation on the more difficult portions of your code.\n\nDuring a correction, you may get asked questions that test your understanding of covered topics.\n\n- What is multicollinearity? Can you give an example? Why is it important to avoid multicollinearity in linear models?\n- What is a confounding variable? Can you give an example?\n- What is overfitting? How to detect and reduce overfitting?\n- What is the Bayes Theorem? How can we use the Bayes Theorem to estimate the probability of our hypotheses?\n- What metrics are typically used for evaluating classification models? What are their use cases?\n"
   ]
  },
  {
   "cell_type": "markdown",
   "id": "dc9c20b1-7a36-4ca0-b237-7cb3f5b5ac47",
   "metadata": {},
   "source": [
    "## General Correction Guidelines\n\nFor an in-depth explanation about how corrections work at Turing College, please read [this doc](https://turingcollege.atlassian.net/wiki/spaces/DLG/pages/537395951/Peer+expert+reviews+corrections).\n"
   ]
  }
 ],
 "metadata": {
  "kernelspec": {
   "display_name": "Python 3",
   "language": "python",
   "name": "python3"
  },
  "language_info": {
   "codemirror_mode": {
    "name": "ipython",
    "version": 3
   },
   "file_extension": ".py",
   "mimetype": "text/x-python",
   "name": "python",
   "nbconvert_exporter": "python",
   "pygments_lexer": "ipython3",
   "version": "3.9.5"
  }
 },
 "nbformat": 4,
 "nbformat_minor": 5
}
